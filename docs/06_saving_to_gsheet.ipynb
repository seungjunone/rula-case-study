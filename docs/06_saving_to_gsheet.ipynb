{
 "cells": [
  {
   "cell_type": "code",
   "execution_count": 9,
   "metadata": {},
   "outputs": [],
   "source": [
    "import pandas as pd\n",
    "import gspread\n",
    "from google.oauth2.service_account import Credentials\n",
    "from googleapiclient.discovery import build\n",
    "\n",
    "# Define the scope of the API\n",
    "SCOPES = ['https://www.googleapis.com/auth/spreadsheets', 'https://www.googleapis.com/auth/drive']\n",
    "\n",
    "# Load credentials from the JSON file\n",
    "creds = Credentials.from_service_account_file('strange-anchor-430022-c5-5f84172fa08f.json', scopes=SCOPES)\n",
    "\n",
    "# Authorize the gspread client\n",
    "gspread_client = gspread.authorize(creds)\n",
    "\n",
    "# Authorize the Drive API client\n",
    "drive_service = build('drive', 'v3', credentials=creds)"
   ]
  },
  {
   "cell_type": "code",
   "execution_count": 11,
   "metadata": {},
   "outputs": [
    {
     "name": "stderr",
     "output_type": "stream",
     "text": [
      "/var/folders/wy/bc7v8k156hs4xzn198z20lc00000gn/T/ipykernel_17319/2487006322.py:48: DeprecationWarning: The order of arguments in worksheet.update() has changed. Please pass values first and range_name secondor used named arguments (range_name=, values=)\n",
      "  worksheet.update('A1', data)\n"
     ]
    },
    {
     "name": "stdout",
     "output_type": "stream",
     "text": [
      "DataFrame uploaded to Google Sheet 'My DataFrame Sheet' in folder ID: 1PPW85EF-lJTgzX3oJk2oknixyHgitKo6\n"
     ]
    }
   ],
   "source": [
    "def find_or_create_folder(drive_service, folder_name):\n",
    "    \"\"\"Finds or creates a Google Drive folder.\"\"\"\n",
    "    folder_id = None\n",
    "    query = \"mimeType = 'application/vnd.google-apps.folder' and name = '{}'\".format(folder_name)\n",
    "    results = drive_service.files().list(q=query).execute()\n",
    "    items = results.get('files', [])\n",
    "\n",
    "    if items:\n",
    "        folder_id = items[0]['id']\n",
    "    else:\n",
    "        # Create the folder if it doesn't exist\n",
    "        file_metadata = {\n",
    "            'name': folder_name,\n",
    "            'mimeType': 'application/vnd.google-apps.folder'\n",
    "        }\n",
    "        file = drive_service.files().create(body=file_metadata, fields='id').execute()\n",
    "        folder_id = file.get('id')\n",
    "        print(f\"Folder '{folder_name}' created with ID: {folder_id}\")\n",
    "\n",
    "    return folder_id\n",
    "\n",
    "def upload_dataframe_to_sheet(gspread_client, drive_service, df, sheet_name, folder_id):\n",
    "    \"\"\"Uploads a Pandas DataFrame to a new Google Sheet.\"\"\"\n",
    "    try:\n",
    "        # Create a new spreadsheet using gspread\n",
    "        spreadsheet = gspread_client.create(sheet_name)\n",
    "\n",
    "        # Move the spreadsheet to the specified folder using Drive API\n",
    "        # Remove the current parent (root) using removeParents\n",
    "        drive_service.files().update(\n",
    "            fileId=spreadsheet.id,\n",
    "            removeParents='root'  # remove from root\n",
    "        ).execute()\n",
    "\n",
    "        # Add the new parent using addParents\n",
    "        drive_service.files().update(\n",
    "            fileId=spreadsheet.id,\n",
    "            addParents=folder_id\n",
    "        ).execute()\n",
    "\n",
    "        # Get the first sheet\n",
    "        worksheet = spreadsheet.sheet1\n",
    "\n",
    "        # Convert DataFrame to list of lists\n",
    "        data = [df.columns.values.tolist()] + df.values.tolist()\n",
    "\n",
    "        # Update the sheet with the data\n",
    "        worksheet.update('A1', data)\n",
    "        print(f\"DataFrame uploaded to Google Sheet '{sheet_name}' in folder ID: {folder_id}\")\n",
    "\n",
    "    except Exception as e:\n",
    "        print(f\"An error occurred: {e}\")\n",
    "\n",
    "# Example Usage\n",
    "folder_name = 'My Pandas Sheets'\n",
    "folder_id = find_or_create_folder(drive_service, folder_name)\n",
    "\n",
    "data = {'col1': [1, 2, 3], 'col2': ['A', 'B', 'C']}\n",
    "df = pd.DataFrame(data)\n",
    "\n",
    "sheet_name = 'My DataFrame Sheet'\n",
    "upload_dataframe_to_sheet(gspread_client, drive_service, df, sheet_name, folder_id)"
   ]
  }
 ],
 "metadata": {
  "kernelspec": {
   "display_name": ".venv",
   "language": "python",
   "name": "python3"
  },
  "language_info": {
   "codemirror_mode": {
    "name": "ipython",
    "version": 3
   },
   "file_extension": ".py",
   "mimetype": "text/x-python",
   "name": "python",
   "nbconvert_exporter": "python",
   "pygments_lexer": "ipython3",
   "version": "3.13.2"
  }
 },
 "nbformat": 4,
 "nbformat_minor": 2
}
