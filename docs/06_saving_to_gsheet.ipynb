{
 "cells": [
  {
   "cell_type": "code",
   "execution_count": 9,
   "metadata": {},
   "outputs": [],
   "source": [
    "import pandas as pd\n",
    "import gspread\n",
    "from google.oauth2.service_account import Credentials\n",
    "from googleapiclient.discovery import build\n",
    "\n",
    "# Define the scope of the API\n",
    "SCOPES = ['https://www.googleapis.com/auth/spreadsheets', 'https://www.googleapis.com/auth/drive']\n",
    "\n",
    "# Load credentials from the JSON file\n",
    "creds = Credentials.from_service_account_file('strange-anchor-430022-c5-5f84172fa08f.json', scopes=SCOPES)\n",
    "\n",
    "# Authorize the gspread client\n",
    "gspread_client = gspread.authorize(creds)\n",
    "\n",
    "# Authorize the Drive API client\n",
    "drive_service = build('drive', 'v3', credentials=creds)"
   ]
  },
  {
   "cell_type": "code",
   "execution_count": null,
   "metadata": {},
   "outputs": [
    {
     "name": "stdout",
     "output_type": "stream",
     "text": [
      "Folder 'My Pandas Sheets' created with ID: 1PPW85EF-lJTgzX3oJk2oknixyHgitKo6\n",
      "An error occurred: <HttpError 403 when requesting https://www.googleapis.com/drive/v3/files/1YwQeFKvESPE-cHSdzKqW2sggAIi-GSGDEkg3TiNnmMQ?alt=json returned \"The parents field is not directly writable in update requests. Use the addParents and removeParents parameters instead.\". Details: \"[{'message': 'The parents field is not directly writable in update requests. Use the addParents and removeParents parameters instead.', 'domain': 'global', 'reason': 'fieldNotWritable'}]\">\n"
     ]
    }
   ],
   "source": [
    "def find_or_create_folder(drive_service, folder_name):\n",
    "    \"\"\"Finds or creates a Google Drive folder.\"\"\"\n",
    "    folder_id = None\n",
    "    query = \"mimeType = 'application/vnd.google-apps.folder' and name = '{}'\".format(folder_name)\n",
    "    results = drive_service.files().list(q=query).execute()\n",
    "    items = results.get('files', [])\n",
    "\n",
    "    if items:\n",
    "        folder_id = items[0]['id']\n",
    "    else:\n",
    "        # Create the folder if it doesn't exist\n",
    "        file_metadata = {\n",
    "            'name': folder_name,\n",
    "            'mimeType': 'application/vnd.google-apps.folder'\n",
    "        }\n",
    "        file = drive_service.files().create(body=file_metadata, fields='id').execute()\n",
    "        folder_id = file.get('id')\n",
    "        print(f\"Folder '{folder_name}' created with ID: {folder_id}\")\n",
    "\n",
    "    return folder_id\n",
    "\n",
    "def upload_dataframe_to_sheet(gspread_client, drive_service, df, sheet_name, folder_id):\n",
    "    \"\"\"Uploads a Pandas DataFrame to a new Google Sheet.\"\"\"\n",
    "    try:\n",
    "        # Create a new spreadsheet using gspread\n",
    "        spreadsheet = gspread_client.create(sheet_name)\n",
    "\n",
    "        # Move the spreadsheet to the specified folder using Drive API\n",
    "        # Remove the current parent (root) using removeParents\n",
    "        drive_service.files().update(\n",
    "            fileId=spreadsheet.id,\n",
    "            removeParents='root'  # remove from root\n",
    "        ).execute()\n",
    "\n",
    "        # Add the new parent using addParents\n",
    "        drive_service.files().update(\n",
    "            fileId=spreadsheet.id,\n",
    "            addParents=folder_id\n",
    "        ).execute()\n",
    "\n",
    "        # Get the first sheet\n",
    "        worksheet = spreadsheet.sheet1\n",
    "\n",
    "        # Convert DataFrame to list of lists\n",
    "        data = [df.columns.values.tolist()] + df.values.tolist()\n",
    "\n",
    "        # Update the sheet with the data\n",
    "        worksheet.update('A1', data)\n",
    "        print(f\"DataFrame uploaded to Google Sheet '{sheet_name}' in folder ID: {folder_id}\")\n",
    "\n",
    "    except Exception as e:\n",
    "        print(f\"An error occurred: {e}\")\n",
    "\n",
    "# Example Usage\n",
    "folder_name = 'My Pandas Sheets'\n",
    "folder_id = find_or_create_folder(drive_service, folder_name)\n",
    "\n",
    "data = {'col1': [1, 2, 3], 'col2': ['A', 'B', 'C']}\n",
    "df = pd.DataFrame(data)\n",
    "\n",
    "sheet_name = 'My DataFrame Sheet'\n",
    "upload_dataframe_to_sheet(gspread_client, drive_service, df, sheet_name, folder_id)"
   ]
  },
  {
   "cell_type": "code",
   "execution_count": 8,
   "metadata": {},
   "outputs": [
    {
     "ename": "AttributeError",
     "evalue": "'Client' object has no attribute 'drive_service'",
     "output_type": "error",
     "traceback": [
      "\u001b[31m---------------------------------------------------------------------------\u001b[39m",
      "\u001b[31mAttributeError\u001b[39m                            Traceback (most recent call last)",
      "\u001b[36mCell\u001b[39m\u001b[36m \u001b[39m\u001b[32mIn[8]\u001b[39m\u001b[32m, line 23\u001b[39m\n\u001b[32m     20\u001b[39m     \u001b[38;5;28;01mreturn\u001b[39;00m folder_id\n\u001b[32m     22\u001b[39m folder_name = \u001b[33m'\u001b[39m\u001b[33mrula_case_data_export_demo\u001b[39m\u001b[33m'\u001b[39m  \u001b[38;5;66;03m# Replace with your desired folder name\u001b[39;00m\n\u001b[32m---> \u001b[39m\u001b[32m23\u001b[39m folder_id = \u001b[43mfind_or_create_folder\u001b[49m\u001b[43m(\u001b[49m\u001b[43mclient\u001b[49m\u001b[43m,\u001b[49m\u001b[43m \u001b[49m\u001b[43mfolder_name\u001b[49m\u001b[43m)\u001b[49m\n",
      "\u001b[36mCell\u001b[39m\u001b[36m \u001b[39m\u001b[32mIn[8]\u001b[39m\u001b[32m, line 5\u001b[39m, in \u001b[36mfind_or_create_folder\u001b[39m\u001b[34m(client, folder_name)\u001b[39m\n\u001b[32m      3\u001b[39m folder_id = \u001b[38;5;28;01mNone\u001b[39;00m\n\u001b[32m      4\u001b[39m query = \u001b[33m\"\u001b[39m\u001b[33mmimeType = \u001b[39m\u001b[33m'\u001b[39m\u001b[33mapplication/vnd.google-apps.folder\u001b[39m\u001b[33m'\u001b[39m\u001b[33m and name = \u001b[39m\u001b[33m'\u001b[39m\u001b[38;5;132;01m{}\u001b[39;00m\u001b[33m'\u001b[39m\u001b[33m\"\u001b[39m.format(folder_name)\n\u001b[32m----> \u001b[39m\u001b[32m5\u001b[39m results = \u001b[43mclient\u001b[49m\u001b[43m.\u001b[49m\u001b[43mdrive_service\u001b[49m.files().list(q=query).execute()\n\u001b[32m      6\u001b[39m items = results.get(\u001b[33m'\u001b[39m\u001b[33mfiles\u001b[39m\u001b[33m'\u001b[39m, [])\n\u001b[32m      8\u001b[39m \u001b[38;5;28;01mif\u001b[39;00m items:\n",
      "\u001b[31mAttributeError\u001b[39m: 'Client' object has no attribute 'drive_service'"
     ]
    }
   ],
   "source": [
    "def find_or_create_folder(client, folder_name):\n",
    "    \"\"\"Finds or creates a Google Drive folder.\"\"\"\n",
    "    folder_id = None\n",
    "    query = \"mimeType = 'application/vnd.google-apps.folder' and name = '{}'\".format(folder_name)\n",
    "    results = client.drive_service.files().list(q=query).execute()\n",
    "    items = results.get('files', [])\n",
    "\n",
    "    if items:\n",
    "        folder_id = items[0]['id']\n",
    "    else:\n",
    "        # Create the folder if it doesn't exist\n",
    "        file_metadata = {\n",
    "            'name': folder_name,\n",
    "            'mimeType': 'application/vnd.google-apps.folder'\n",
    "        }\n",
    "        file = client.drive_service.files().create(body=file_metadata, fields='id').execute()\n",
    "        folder_id = file.get('id')\n",
    "        print(f\"Folder '{folder_name}' created with ID: {folder_id}\")\n",
    "\n",
    "    return folder_id\n",
    "\n",
    "folder_name = 'rula_case_data_export_demo'  # Replace with your desired folder name\n",
    "folder_id = find_or_create_folder(client, folder_name)"
   ]
  }
 ],
 "metadata": {
  "kernelspec": {
   "display_name": ".venv",
   "language": "python",
   "name": "python3"
  },
  "language_info": {
   "codemirror_mode": {
    "name": "ipython",
    "version": 3
   },
   "file_extension": ".py",
   "mimetype": "text/x-python",
   "name": "python",
   "nbconvert_exporter": "python",
   "pygments_lexer": "ipython3",
   "version": "3.13.2"
  }
 },
 "nbformat": 4,
 "nbformat_minor": 2
}
